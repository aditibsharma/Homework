{
 "cells": [
  {
   "cell_type": "markdown",
   "metadata": {},
   "source": [
    "#Heroes Of Pymoli Data Analysis \n",
    "\n",
    "OBSERVED TREND 1:\n",
    "Gender Demographics: 81.15% of players are male as compared to female and other users. We can improve the interface so as to provide user experience which is appealing to all the genders.\n",
    "\n",
    "OBSERVED TREND 2:\n",
    "Age Demographics: Players from 20-24 ages are the top users.There is a huge transition in number for players from 25-29. We can look at improving the stages in the game in order to attract players from the age group 25-29. It will need some research to understand the trend about other popular games to include improvements.\n",
    "\n",
    "OBSERVED TREND 3:\n",
    "Purchasing Analysis: Highest total purchase value is achieved by male users with $1867.68 revenue. The game can be improved in a way to increase the number of female and other users by including new features or improving the existing ones."
   ]
  },
  {
   "cell_type": "code",
   "execution_count": 357,
   "metadata": {
    "collapsed": true
   },
   "outputs": [],
   "source": [
    "# Import the Pandas library\n",
    "import pandas as pd"
   ]
  },
  {
   "cell_type": "code",
   "execution_count": 358,
   "metadata": {
    "scrolled": true
   },
   "outputs": [
    {
     "data": {
      "text/html": [
       "<div>\n",
       "<style>\n",
       "    .dataframe thead tr:only-child th {\n",
       "        text-align: right;\n",
       "    }\n",
       "\n",
       "    .dataframe thead th {\n",
       "        text-align: left;\n",
       "    }\n",
       "\n",
       "    .dataframe tbody tr th {\n",
       "        vertical-align: top;\n",
       "    }\n",
       "</style>\n",
       "<table border=\"1\" class=\"dataframe\">\n",
       "  <thead>\n",
       "    <tr style=\"text-align: right;\">\n",
       "      <th></th>\n",
       "      <th>Age</th>\n",
       "      <th>Gender</th>\n",
       "      <th>Item ID</th>\n",
       "      <th>Item Name</th>\n",
       "      <th>Price</th>\n",
       "      <th>SN</th>\n",
       "    </tr>\n",
       "  </thead>\n",
       "  <tbody>\n",
       "    <tr>\n",
       "      <th>0</th>\n",
       "      <td>38</td>\n",
       "      <td>Male</td>\n",
       "      <td>165</td>\n",
       "      <td>Bone Crushing Silver Skewer</td>\n",
       "      <td>3.37</td>\n",
       "      <td>Aelalis34</td>\n",
       "    </tr>\n",
       "    <tr>\n",
       "      <th>1</th>\n",
       "      <td>21</td>\n",
       "      <td>Male</td>\n",
       "      <td>119</td>\n",
       "      <td>Stormbringer, Dark Blade of Ending Misery</td>\n",
       "      <td>2.32</td>\n",
       "      <td>Eolo46</td>\n",
       "    </tr>\n",
       "    <tr>\n",
       "      <th>2</th>\n",
       "      <td>34</td>\n",
       "      <td>Male</td>\n",
       "      <td>174</td>\n",
       "      <td>Primitive Blade</td>\n",
       "      <td>2.46</td>\n",
       "      <td>Assastnya25</td>\n",
       "    </tr>\n",
       "    <tr>\n",
       "      <th>3</th>\n",
       "      <td>21</td>\n",
       "      <td>Male</td>\n",
       "      <td>92</td>\n",
       "      <td>Final Critic</td>\n",
       "      <td>1.36</td>\n",
       "      <td>Pheusrical25</td>\n",
       "    </tr>\n",
       "    <tr>\n",
       "      <th>4</th>\n",
       "      <td>23</td>\n",
       "      <td>Male</td>\n",
       "      <td>63</td>\n",
       "      <td>Stormfury Mace</td>\n",
       "      <td>1.27</td>\n",
       "      <td>Aela59</td>\n",
       "    </tr>\n",
       "  </tbody>\n",
       "</table>\n",
       "</div>"
      ],
      "text/plain": [
       "   Age Gender  Item ID                                  Item Name  Price  \\\n",
       "0   38   Male      165                Bone Crushing Silver Skewer   3.37   \n",
       "1   21   Male      119  Stormbringer, Dark Blade of Ending Misery   2.32   \n",
       "2   34   Male      174                            Primitive Blade   2.46   \n",
       "3   21   Male       92                               Final Critic   1.36   \n",
       "4   23   Male       63                             Stormfury Mace   1.27   \n",
       "\n",
       "             SN  \n",
       "0     Aelalis34  \n",
       "1        Eolo46  \n",
       "2   Assastnya25  \n",
       "3  Pheusrical25  \n",
       "4        Aela59  "
      ]
     },
     "execution_count": 358,
     "metadata": {},
     "output_type": "execute_result"
    }
   ],
   "source": [
    "# load json file\n",
    "json_path = \"../Week 04- Panda-Numpy Homework/purchase_data.json\"\n",
    "df = pd.read_json(json_path)\n",
    "df.head()"
   ]
  },
  {
   "cell_type": "code",
   "execution_count": 359,
   "metadata": {},
   "outputs": [
    {
     "data": {
      "text/html": [
       "<div>\n",
       "<style>\n",
       "    .dataframe thead tr:only-child th {\n",
       "        text-align: right;\n",
       "    }\n",
       "\n",
       "    .dataframe thead th {\n",
       "        text-align: left;\n",
       "    }\n",
       "\n",
       "    .dataframe tbody tr th {\n",
       "        vertical-align: top;\n",
       "    }\n",
       "</style>\n",
       "<table border=\"1\" class=\"dataframe\">\n",
       "  <thead>\n",
       "    <tr style=\"text-align: right;\">\n",
       "      <th></th>\n",
       "      <th>Total Players</th>\n",
       "    </tr>\n",
       "  </thead>\n",
       "  <tbody>\n",
       "    <tr>\n",
       "      <th>0</th>\n",
       "      <td>780</td>\n",
       "    </tr>\n",
       "  </tbody>\n",
       "</table>\n",
       "</div>"
      ],
      "text/plain": [
       "   Total Players\n",
       "0            780"
      ]
     },
     "execution_count": 359,
     "metadata": {},
     "output_type": "execute_result"
    }
   ],
   "source": [
    "#Calculate Total Number of Players\n",
    "player_count = df['Age'].count()\n",
    "player_count\n",
    "pd.DataFrame([player_count], columns = [\"Total Players\"])"
   ]
  },
  {
   "cell_type": "markdown",
   "metadata": {},
   "source": [
    "#CalculatePurchasing Analysis (Total)"
   ]
  },
  {
   "cell_type": "code",
   "execution_count": 360,
   "metadata": {},
   "outputs": [
    {
     "data": {
      "text/html": [
       "<div>\n",
       "<style>\n",
       "    .dataframe thead tr:only-child th {\n",
       "        text-align: right;\n",
       "    }\n",
       "\n",
       "    .dataframe thead th {\n",
       "        text-align: left;\n",
       "    }\n",
       "\n",
       "    .dataframe tbody tr th {\n",
       "        vertical-align: top;\n",
       "    }\n",
       "</style>\n",
       "<table border=\"1\" class=\"dataframe\">\n",
       "  <thead>\n",
       "    <tr style=\"text-align: right;\">\n",
       "      <th></th>\n",
       "      <th>Unique Items</th>\n",
       "    </tr>\n",
       "  </thead>\n",
       "  <tbody>\n",
       "    <tr>\n",
       "      <th>0</th>\n",
       "      <td>183</td>\n",
       "    </tr>\n",
       "  </tbody>\n",
       "</table>\n",
       "</div>"
      ],
      "text/plain": [
       "   Unique Items\n",
       "0           183"
      ]
     },
     "execution_count": 360,
     "metadata": {},
     "output_type": "execute_result"
    }
   ],
   "source": [
    "#Calculate Number of Unique Items\n",
    "unique_items = len(df['Item ID'].unique())                    \n",
    "unique_items\n",
    "pd.DataFrame([unique_items], columns = [\"Unique Items\"])"
   ]
  },
  {
   "cell_type": "code",
   "execution_count": 361,
   "metadata": {
    "scrolled": true
   },
   "outputs": [
    {
     "name": "stdout",
     "output_type": "stream",
     "text": [
      " Average Purchase price: 3\n"
     ]
    },
    {
     "data": {
      "text/html": [
       "<div>\n",
       "<style>\n",
       "    .dataframe thead tr:only-child th {\n",
       "        text-align: right;\n",
       "    }\n",
       "\n",
       "    .dataframe thead th {\n",
       "        text-align: left;\n",
       "    }\n",
       "\n",
       "    .dataframe tbody tr th {\n",
       "        vertical-align: top;\n",
       "    }\n",
       "</style>\n",
       "<table border=\"1\" class=\"dataframe\">\n",
       "  <thead>\n",
       "    <tr style=\"text-align: right;\">\n",
       "      <th></th>\n",
       "      <th>Average Purchase price</th>\n",
       "    </tr>\n",
       "  </thead>\n",
       "  <tbody>\n",
       "    <tr>\n",
       "      <th>0</th>\n",
       "      <td>2.931192</td>\n",
       "    </tr>\n",
       "  </tbody>\n",
       "</table>\n",
       "</div>"
      ],
      "text/plain": [
       "   Average Purchase price\n",
       "0                2.931192"
      ]
     },
     "execution_count": 361,
     "metadata": {},
     "output_type": "execute_result"
    }
   ],
   "source": [
    "#Calculate Average Purchase Price\n",
    "avg_pur_price = df['Price'].mean()\n",
    "print(f\" Average Purchase price: {round(avg_pur_price)}\")\n",
    "pd.DataFrame([avg_pur_price], columns = [\"Average Purchase price\"])"
   ]
  },
  {
   "cell_type": "code",
   "execution_count": 362,
   "metadata": {},
   "outputs": [
    {
     "data": {
      "text/html": [
       "<div>\n",
       "<style>\n",
       "    .dataframe thead tr:only-child th {\n",
       "        text-align: right;\n",
       "    }\n",
       "\n",
       "    .dataframe thead th {\n",
       "        text-align: left;\n",
       "    }\n",
       "\n",
       "    .dataframe tbody tr th {\n",
       "        vertical-align: top;\n",
       "    }\n",
       "</style>\n",
       "<table border=\"1\" class=\"dataframe\">\n",
       "  <thead>\n",
       "    <tr style=\"text-align: right;\">\n",
       "      <th></th>\n",
       "      <th>Total Purchases</th>\n",
       "    </tr>\n",
       "  </thead>\n",
       "  <tbody>\n",
       "    <tr>\n",
       "      <th>0</th>\n",
       "      <td>780</td>\n",
       "    </tr>\n",
       "  </tbody>\n",
       "</table>\n",
       "</div>"
      ],
      "text/plain": [
       "   Total Purchases\n",
       "0              780"
      ]
     },
     "execution_count": 362,
     "metadata": {},
     "output_type": "execute_result"
    }
   ],
   "source": [
    "#Calculate Total Number of Purchases\n",
    "total_purchases = df['Item Name'].count()\n",
    "pd.DataFrame([total_purchases], columns = [\"Total Purchases\"])"
   ]
  },
  {
   "cell_type": "code",
   "execution_count": 363,
   "metadata": {},
   "outputs": [
    {
     "data": {
      "text/html": [
       "<div>\n",
       "<style>\n",
       "    .dataframe thead tr:only-child th {\n",
       "        text-align: right;\n",
       "    }\n",
       "\n",
       "    .dataframe thead th {\n",
       "        text-align: left;\n",
       "    }\n",
       "\n",
       "    .dataframe tbody tr th {\n",
       "        vertical-align: top;\n",
       "    }\n",
       "</style>\n",
       "<table border=\"1\" class=\"dataframe\">\n",
       "  <thead>\n",
       "    <tr style=\"text-align: right;\">\n",
       "      <th></th>\n",
       "      <th>Total Revenue</th>\n",
       "    </tr>\n",
       "  </thead>\n",
       "  <tbody>\n",
       "    <tr>\n",
       "      <th>0</th>\n",
       "      <td>2286.33</td>\n",
       "    </tr>\n",
       "  </tbody>\n",
       "</table>\n",
       "</div>"
      ],
      "text/plain": [
       "   Total Revenue\n",
       "0        2286.33"
      ]
     },
     "execution_count": 363,
     "metadata": {},
     "output_type": "execute_result"
    }
   ],
   "source": [
    "#Calculate Total Revenue\n",
    "total_revenue = df['Price'].sum()\n",
    "pd.DataFrame([total_revenue], columns = [\"Total Revenue\"])"
   ]
  },
  {
   "cell_type": "code",
   "execution_count": 364,
   "metadata": {},
   "outputs": [
    {
     "data": {
      "text/html": [
       "<style  type=\"text/css\" >\n",
       "</style>  \n",
       "<table id=\"T_b09bccfa_0fc8_11e8_b264_a8667f361cf9\" > \n",
       "<thead>    <tr> \n",
       "        <th class=\"blank level0\" ></th> \n",
       "        <th class=\"col_heading level0 col0\" >Percentage of Players</th> \n",
       "        <th class=\"col_heading level0 col1\" >Total Count</th> \n",
       "    </tr>    <tr> \n",
       "        <th class=\"index_name level0\" >Gender</th> \n",
       "        <th class=\"blank\" ></th> \n",
       "        <th class=\"blank\" ></th> \n",
       "    </tr></thead> \n",
       "<tbody>    <tr> \n",
       "        <th id=\"T_b09bccfa_0fc8_11e8_b264_a8667f361cf9level0_row0\" class=\"row_heading level0 row0\" >Male</th> \n",
       "        <td id=\"T_b09bccfa_0fc8_11e8_b264_a8667f361cf9row0_col0\" class=\"data row0 col0\" >81.15%</td> \n",
       "        <td id=\"T_b09bccfa_0fc8_11e8_b264_a8667f361cf9row0_col1\" class=\"data row0 col1\" >633</td> \n",
       "    </tr>    <tr> \n",
       "        <th id=\"T_b09bccfa_0fc8_11e8_b264_a8667f361cf9level0_row1\" class=\"row_heading level0 row1\" >Female</th> \n",
       "        <td id=\"T_b09bccfa_0fc8_11e8_b264_a8667f361cf9row1_col0\" class=\"data row1 col0\" >17.44%</td> \n",
       "        <td id=\"T_b09bccfa_0fc8_11e8_b264_a8667f361cf9row1_col1\" class=\"data row1 col1\" >136</td> \n",
       "    </tr>    <tr> \n",
       "        <th id=\"T_b09bccfa_0fc8_11e8_b264_a8667f361cf9level0_row2\" class=\"row_heading level0 row2\" >Other / Non-Disclosed</th> \n",
       "        <td id=\"T_b09bccfa_0fc8_11e8_b264_a8667f361cf9row2_col0\" class=\"data row2 col0\" >1.41%</td> \n",
       "        <td id=\"T_b09bccfa_0fc8_11e8_b264_a8667f361cf9row2_col1\" class=\"data row2 col1\" >11</td> \n",
       "    </tr></tbody> \n",
       "</table> "
      ],
      "text/plain": [
       "<pandas.io.formats.style.Styler at 0x1153f56a0>"
      ]
     },
     "execution_count": 364,
     "metadata": {},
     "output_type": "execute_result"
    }
   ],
   "source": [
    "#Gender Demographics\n",
    "#Percentage and Count of Male Players\n",
    "total_gender = df[\"Gender\"].count()\n",
    "male = df[\"Gender\"].value_counts()['Male']\n",
    "male #Calculating count of male players\n",
    "male_percent = male/total_gender * 100\n",
    "\n",
    "#Percentage and Count of Female Players\n",
    "female = df[\"Gender\"].value_counts()['Female']\n",
    "female #Calculating count of female players\n",
    "female_percent = female/total_gender * 100\n",
    "\n",
    "#Percentage and Count of Other / Non-Disclosed\n",
    "\n",
    "other = df[\"Gender\"].value_counts()['Other / Non-Disclosed']\n",
    "other\n",
    "other_percent = other/total_gender * 100\n",
    "\n",
    "gender_demographics = pd.DataFrame({\"Gender\": [\"Male\", \"Female\", \"Other / Non-Disclosed\"], \"Percentage of Players\": [male_percent, female_percent, other_percent],\n",
    "                                        \"Total Count\": [male, female, other]}, columns = \n",
    "                                        [\"Gender\", \"Percentage of Players\", \"Total Count\"])\n",
    "\n",
    "#printing data                                        \n",
    "gender_demographics_df = gender_demographics.set_index(\"Gender\")\n",
    "gender_demographics_df.style.format({\"Percentage of Players\": \"{:.2f}%\"})"
   ]
  },
  {
   "cell_type": "code",
   "execution_count": 365,
   "metadata": {
    "scrolled": true
   },
   "outputs": [
    {
     "data": {
      "text/html": [
       "<style  type=\"text/css\" >\n",
       "</style>  \n",
       "<table id=\"T_b0a5cb58_0fc8_11e8_920a_a8667f361cf9\" > \n",
       "<thead>    <tr> \n",
       "        <th class=\"blank level0\" ></th> \n",
       "        <th class=\"col_heading level0 col0\" >Average Purchase Price</th> \n",
       "        <th class=\"col_heading level0 col1\" >Normalised totals</th> \n",
       "        <th class=\"col_heading level0 col2\" >Purchase Count</th> \n",
       "        <th class=\"col_heading level0 col3\" >Total Purchase value</th> \n",
       "    </tr>    <tr> \n",
       "        <th class=\"index_name level0\" >Gender</th> \n",
       "        <th class=\"blank\" ></th> \n",
       "        <th class=\"blank\" ></th> \n",
       "        <th class=\"blank\" ></th> \n",
       "        <th class=\"blank\" ></th> \n",
       "    </tr></thead> \n",
       "<tbody>    <tr> \n",
       "        <th id=\"T_b0a5cb58_0fc8_11e8_920a_a8667f361cf9level0_row0\" class=\"row_heading level0 row0\" >Female</th> \n",
       "        <td id=\"T_b0a5cb58_0fc8_11e8_920a_a8667f361cf9row0_col0\" class=\"data row0 col0\" >$2.82</td> \n",
       "        <td id=\"T_b0a5cb58_0fc8_11e8_920a_a8667f361cf9row0_col1\" class=\"data row0 col1\" >2.81551</td> \n",
       "        <td id=\"T_b0a5cb58_0fc8_11e8_920a_a8667f361cf9row0_col2\" class=\"data row0 col2\" >136.00</td> \n",
       "        <td id=\"T_b0a5cb58_0fc8_11e8_920a_a8667f361cf9row0_col3\" class=\"data row0 col3\" >382.91</td> \n",
       "    </tr>    <tr> \n",
       "        <th id=\"T_b0a5cb58_0fc8_11e8_920a_a8667f361cf9level0_row1\" class=\"row_heading level0 row1\" >Male</th> \n",
       "        <td id=\"T_b0a5cb58_0fc8_11e8_920a_a8667f361cf9row1_col0\" class=\"data row1 col0\" >$2.95</td> \n",
       "        <td id=\"T_b0a5cb58_0fc8_11e8_920a_a8667f361cf9row1_col1\" class=\"data row1 col1\" >2.95052</td> \n",
       "        <td id=\"T_b0a5cb58_0fc8_11e8_920a_a8667f361cf9row1_col2\" class=\"data row1 col2\" >633.00</td> \n",
       "        <td id=\"T_b0a5cb58_0fc8_11e8_920a_a8667f361cf9row1_col3\" class=\"data row1 col3\" >1867.68</td> \n",
       "    </tr>    <tr> \n",
       "        <th id=\"T_b0a5cb58_0fc8_11e8_920a_a8667f361cf9level0_row2\" class=\"row_heading level0 row2\" >Other / Non-Disclosed</th> \n",
       "        <td id=\"T_b0a5cb58_0fc8_11e8_920a_a8667f361cf9row2_col0\" class=\"data row2 col0\" >$3.25</td> \n",
       "        <td id=\"T_b0a5cb58_0fc8_11e8_920a_a8667f361cf9row2_col1\" class=\"data row2 col1\" >3.24909</td> \n",
       "        <td id=\"T_b0a5cb58_0fc8_11e8_920a_a8667f361cf9row2_col2\" class=\"data row2 col2\" >11.00</td> \n",
       "        <td id=\"T_b0a5cb58_0fc8_11e8_920a_a8667f361cf9row2_col3\" class=\"data row2 col3\" >35.74</td> \n",
       "    </tr></tbody> \n",
       "</table> "
      ],
      "text/plain": [
       "<pandas.io.formats.style.Styler at 0x11546ae80>"
      ]
     },
     "execution_count": 365,
     "metadata": {},
     "output_type": "execute_result"
    }
   ],
   "source": [
    "#Purchasing Analysis (Gender)\n",
    "\n",
    "#The below each broken by gender\n",
    "\n",
    "#Purchase Count\n",
    "gender_groups = df.groupby(['Gender'])\n",
    "purchase_count = gender_groups.count()[\"Price\"]\n",
    "\n",
    "#Average Purchase Count\n",
    "avg_pur_count = gender_groups.mean()[\"Price\"]\n",
    "\n",
    "#Total Purchase Value\n",
    "total_pur_value = gender_groups.sum()[\"Price\"]\n",
    "\n",
    "#Normalized Totals\n",
    "norm_total = total_pur_value/purchase_count\n",
    "\n",
    "pur_analysis = pd.DataFrame({\n",
    "    \n",
    "    \"Purchase Count\": purchase_count,\n",
    "    'Average Purchase Price': avg_pur_count,\n",
    "    'Total Purchase value': total_pur_value,\n",
    "    'Normalised totals': norm_total\n",
    "})\n",
    "\n",
    "#printing data\n",
    "#printing data\n",
    "pur_analysis.style.format({\"Purchase Count\": \"{:.2f}\", \"Average Purchase Price\": \"${:.2f}\", \"Total Purchase Value\":\"${:.2f}\", \"Normalised Totals\":\"${:.2f}\"})\n"
   ]
  },
  {
   "cell_type": "code",
   "execution_count": 366,
   "metadata": {},
   "outputs": [
    {
     "data": {
      "text/html": [
       "<style  type=\"text/css\" >\n",
       "</style>  \n",
       "<table id=\"T_b0b16198_0fc8_11e8_b367_a8667f361cf9\" > \n",
       "<thead>    <tr> \n",
       "        <th class=\"blank level0\" ></th> \n",
       "        <th class=\"col_heading level0 col0\" >Average Purchase Price</th> \n",
       "        <th class=\"col_heading level0 col1\" >Normalised Totals</th> \n",
       "        <th class=\"col_heading level0 col2\" >Purchase count</th> \n",
       "        <th class=\"col_heading level0 col3\" >Total Purchase value</th> \n",
       "    </tr>    <tr> \n",
       "        <th class=\"index_name level0\" >Age Range</th> \n",
       "        <th class=\"blank\" ></th> \n",
       "        <th class=\"blank\" ></th> \n",
       "        <th class=\"blank\" ></th> \n",
       "        <th class=\"blank\" ></th> \n",
       "    </tr></thead> \n",
       "<tbody>    <tr> \n",
       "        <th id=\"T_b0b16198_0fc8_11e8_b367_a8667f361cf9level0_row0\" class=\"row_heading level0 row0\" ><10</th> \n",
       "        <td id=\"T_b0b16198_0fc8_11e8_b367_a8667f361cf9row0_col0\" class=\"data row0 col0\" >$3.01</td> \n",
       "        <td id=\"T_b0b16198_0fc8_11e8_b367_a8667f361cf9row0_col1\" class=\"data row0 col1\" >$3.01</td> \n",
       "        <td id=\"T_b0b16198_0fc8_11e8_b367_a8667f361cf9row0_col2\" class=\"data row0 col2\" >41</td> \n",
       "        <td id=\"T_b0b16198_0fc8_11e8_b367_a8667f361cf9row0_col3\" class=\"data row0 col3\" >123.38</td> \n",
       "    </tr>    <tr> \n",
       "        <th id=\"T_b0b16198_0fc8_11e8_b367_a8667f361cf9level0_row1\" class=\"row_heading level0 row1\" >10-14</th> \n",
       "        <td id=\"T_b0b16198_0fc8_11e8_b367_a8667f361cf9row1_col0\" class=\"data row1 col0\" >$2.81</td> \n",
       "        <td id=\"T_b0b16198_0fc8_11e8_b367_a8667f361cf9row1_col1\" class=\"data row1 col1\" >$2.81</td> \n",
       "        <td id=\"T_b0b16198_0fc8_11e8_b367_a8667f361cf9row1_col2\" class=\"data row1 col2\" >92</td> \n",
       "        <td id=\"T_b0b16198_0fc8_11e8_b367_a8667f361cf9row1_col3\" class=\"data row1 col3\" >258.1</td> \n",
       "    </tr>    <tr> \n",
       "        <th id=\"T_b0b16198_0fc8_11e8_b367_a8667f361cf9level0_row2\" class=\"row_heading level0 row2\" >15-19</th> \n",
       "        <td id=\"T_b0b16198_0fc8_11e8_b367_a8667f361cf9row2_col0\" class=\"data row2 col0\" >$2.88</td> \n",
       "        <td id=\"T_b0b16198_0fc8_11e8_b367_a8667f361cf9row2_col1\" class=\"data row2 col1\" >$2.88</td> \n",
       "        <td id=\"T_b0b16198_0fc8_11e8_b367_a8667f361cf9row2_col2\" class=\"data row2 col2\" >204</td> \n",
       "        <td id=\"T_b0b16198_0fc8_11e8_b367_a8667f361cf9row2_col3\" class=\"data row2 col3\" >588.4</td> \n",
       "    </tr>    <tr> \n",
       "        <th id=\"T_b0b16198_0fc8_11e8_b367_a8667f361cf9level0_row3\" class=\"row_heading level0 row3\" >20-24</th> \n",
       "        <td id=\"T_b0b16198_0fc8_11e8_b367_a8667f361cf9row3_col0\" class=\"data row3 col0\" >$2.96</td> \n",
       "        <td id=\"T_b0b16198_0fc8_11e8_b367_a8667f361cf9row3_col1\" class=\"data row3 col1\" >$2.96</td> \n",
       "        <td id=\"T_b0b16198_0fc8_11e8_b367_a8667f361cf9row3_col2\" class=\"data row3 col2\" >275</td> \n",
       "        <td id=\"T_b0b16198_0fc8_11e8_b367_a8667f361cf9row3_col3\" class=\"data row3 col3\" >814.07</td> \n",
       "    </tr>    <tr> \n",
       "        <th id=\"T_b0b16198_0fc8_11e8_b367_a8667f361cf9level0_row4\" class=\"row_heading level0 row4\" >25-29</th> \n",
       "        <td id=\"T_b0b16198_0fc8_11e8_b367_a8667f361cf9row4_col0\" class=\"data row4 col0\" >$2.98</td> \n",
       "        <td id=\"T_b0b16198_0fc8_11e8_b367_a8667f361cf9row4_col1\" class=\"data row4 col1\" >$2.98</td> \n",
       "        <td id=\"T_b0b16198_0fc8_11e8_b367_a8667f361cf9row4_col2\" class=\"data row4 col2\" >63</td> \n",
       "        <td id=\"T_b0b16198_0fc8_11e8_b367_a8667f361cf9row4_col3\" class=\"data row4 col3\" >187.99</td> \n",
       "    </tr>    <tr> \n",
       "        <th id=\"T_b0b16198_0fc8_11e8_b367_a8667f361cf9level0_row5\" class=\"row_heading level0 row5\" >30-34</th> \n",
       "        <td id=\"T_b0b16198_0fc8_11e8_b367_a8667f361cf9row5_col0\" class=\"data row5 col0\" >$3.07</td> \n",
       "        <td id=\"T_b0b16198_0fc8_11e8_b367_a8667f361cf9row5_col1\" class=\"data row5 col1\" >$3.07</td> \n",
       "        <td id=\"T_b0b16198_0fc8_11e8_b367_a8667f361cf9row5_col2\" class=\"data row5 col2\" >58</td> \n",
       "        <td id=\"T_b0b16198_0fc8_11e8_b367_a8667f361cf9row5_col3\" class=\"data row5 col3\" >178.26</td> \n",
       "    </tr>    <tr> \n",
       "        <th id=\"T_b0b16198_0fc8_11e8_b367_a8667f361cf9level0_row6\" class=\"row_heading level0 row6\" >35-39</th> \n",
       "        <td id=\"T_b0b16198_0fc8_11e8_b367_a8667f361cf9row6_col0\" class=\"data row6 col0\" >$2.90</td> \n",
       "        <td id=\"T_b0b16198_0fc8_11e8_b367_a8667f361cf9row6_col1\" class=\"data row6 col1\" >$2.90</td> \n",
       "        <td id=\"T_b0b16198_0fc8_11e8_b367_a8667f361cf9row6_col2\" class=\"data row6 col2\" >44</td> \n",
       "        <td id=\"T_b0b16198_0fc8_11e8_b367_a8667f361cf9row6_col3\" class=\"data row6 col3\" >127.49</td> \n",
       "    </tr>    <tr> \n",
       "        <th id=\"T_b0b16198_0fc8_11e8_b367_a8667f361cf9level0_row7\" class=\"row_heading level0 row7\" >40+</th> \n",
       "        <td id=\"T_b0b16198_0fc8_11e8_b367_a8667f361cf9row7_col0\" class=\"data row7 col0\" >$2.88</td> \n",
       "        <td id=\"T_b0b16198_0fc8_11e8_b367_a8667f361cf9row7_col1\" class=\"data row7 col1\" >$2.88</td> \n",
       "        <td id=\"T_b0b16198_0fc8_11e8_b367_a8667f361cf9row7_col2\" class=\"data row7 col2\" >3</td> \n",
       "        <td id=\"T_b0b16198_0fc8_11e8_b367_a8667f361cf9row7_col3\" class=\"data row7 col3\" >8.64</td> \n",
       "    </tr></tbody> \n",
       "</table> "
      ],
      "text/plain": [
       "<pandas.io.formats.style.Styler at 0x1153c9a20>"
      ]
     },
     "execution_count": 366,
     "metadata": {},
     "output_type": "execute_result"
    }
   ],
   "source": [
    "#Age Demographics\n",
    "\n",
    "#The below each broken into bins of 4 years (i.e. <10, 10-14, 15-19, etc.)\n",
    "\n",
    "# Create the names for the bins\n",
    "group_names = ['<10', '10-14', '15-19', '20-24', '25-29', '30-34', '35-39', '40+']\n",
    "age_df = pd.DataFrame(df)\n",
    "\n",
    "# Cut age and place the scores into bins\n",
    "age_df[\"Age Range\"] = pd.cut(age_df[\"Age\"], 8, labels=group_names)\n",
    "               \n",
    "age_groups = df.groupby(['Age Range'])\n",
    "\n",
    "#Purchase Count\n",
    "purchase_count = age_groups.count()[\"Price\"]\n",
    "\n",
    "#Average Purchase Price\n",
    "avg_pur_count = age_groups.mean()[\"Price\"]\n",
    "\n",
    "#Total Purchase Value\n",
    "total_pur_value = age_groups.sum()[\"Price\"]\n",
    "\n",
    "#Normalized Totals\n",
    "norm_total = total_pur_value/purchase_count\n",
    "\n",
    "pur_analysis = pd.DataFrame({\n",
    "    \n",
    "    \"Purchase count\": purchase_count,\n",
    "    'Average Purchase Price': avg_pur_count,\n",
    "    'Total Purchase value': total_pur_value,\n",
    "    'Normalised Totals': norm_total\n",
    "})\n",
    "\n",
    "#printing data\n",
    "pur_analysis.style.format({\"Average Purchase Price\": \"${:.2f}\", \"Total Purchase Value\":\"${:.2f}\", \"Normalised Totals\":\"${:.2f}\"})"
   ]
  },
  {
   "cell_type": "code",
   "execution_count": 367,
   "metadata": {},
   "outputs": [
    {
     "data": {
      "text/html": [
       "<style  type=\"text/css\" >\n",
       "</style>  \n",
       "<table id=\"T_b0ba85f4_0fc8_11e8_b150_a8667f361cf9\" > \n",
       "<thead>    <tr> \n",
       "        <th class=\"blank level0\" ></th> \n",
       "        <th class=\"col_heading level0 col0\" >Average Purchase Price</th> \n",
       "        <th class=\"col_heading level0 col1\" >Purchase Count</th> \n",
       "        <th class=\"col_heading level0 col2\" >Total Purchase Value</th> \n",
       "    </tr>    <tr> \n",
       "        <th class=\"index_name level0\" >SN</th> \n",
       "        <th class=\"blank\" ></th> \n",
       "        <th class=\"blank\" ></th> \n",
       "        <th class=\"blank\" ></th> \n",
       "    </tr></thead> \n",
       "<tbody>    <tr> \n",
       "        <th id=\"T_b0ba85f4_0fc8_11e8_b150_a8667f361cf9level0_row0\" class=\"row_heading level0 row0\" >Undirrala66</th> \n",
       "        <td id=\"T_b0ba85f4_0fc8_11e8_b150_a8667f361cf9row0_col0\" class=\"data row0 col0\" >$3.41</td> \n",
       "        <td id=\"T_b0ba85f4_0fc8_11e8_b150_a8667f361cf9row0_col1\" class=\"data row0 col1\" >5</td> \n",
       "        <td id=\"T_b0ba85f4_0fc8_11e8_b150_a8667f361cf9row0_col2\" class=\"data row0 col2\" >$17.06</td> \n",
       "    </tr>    <tr> \n",
       "        <th id=\"T_b0ba85f4_0fc8_11e8_b150_a8667f361cf9level0_row1\" class=\"row_heading level0 row1\" >Saedue76</th> \n",
       "        <td id=\"T_b0ba85f4_0fc8_11e8_b150_a8667f361cf9row1_col0\" class=\"data row1 col0\" >$3.39</td> \n",
       "        <td id=\"T_b0ba85f4_0fc8_11e8_b150_a8667f361cf9row1_col1\" class=\"data row1 col1\" >4</td> \n",
       "        <td id=\"T_b0ba85f4_0fc8_11e8_b150_a8667f361cf9row1_col2\" class=\"data row1 col2\" >$13.56</td> \n",
       "    </tr>    <tr> \n",
       "        <th id=\"T_b0ba85f4_0fc8_11e8_b150_a8667f361cf9level0_row2\" class=\"row_heading level0 row2\" >Mindimnya67</th> \n",
       "        <td id=\"T_b0ba85f4_0fc8_11e8_b150_a8667f361cf9row2_col0\" class=\"data row2 col0\" >$3.18</td> \n",
       "        <td id=\"T_b0ba85f4_0fc8_11e8_b150_a8667f361cf9row2_col1\" class=\"data row2 col1\" >4</td> \n",
       "        <td id=\"T_b0ba85f4_0fc8_11e8_b150_a8667f361cf9row2_col2\" class=\"data row2 col2\" >$12.74</td> \n",
       "    </tr>    <tr> \n",
       "        <th id=\"T_b0ba85f4_0fc8_11e8_b150_a8667f361cf9level0_row3\" class=\"row_heading level0 row3\" >Haellysu29</th> \n",
       "        <td id=\"T_b0ba85f4_0fc8_11e8_b150_a8667f361cf9row3_col0\" class=\"data row3 col0\" >$4.24</td> \n",
       "        <td id=\"T_b0ba85f4_0fc8_11e8_b150_a8667f361cf9row3_col1\" class=\"data row3 col1\" >3</td> \n",
       "        <td id=\"T_b0ba85f4_0fc8_11e8_b150_a8667f361cf9row3_col2\" class=\"data row3 col2\" >$12.73</td> \n",
       "    </tr>    <tr> \n",
       "        <th id=\"T_b0ba85f4_0fc8_11e8_b150_a8667f361cf9level0_row4\" class=\"row_heading level0 row4\" >Eoda93</th> \n",
       "        <td id=\"T_b0ba85f4_0fc8_11e8_b150_a8667f361cf9row4_col0\" class=\"data row4 col0\" >$3.86</td> \n",
       "        <td id=\"T_b0ba85f4_0fc8_11e8_b150_a8667f361cf9row4_col1\" class=\"data row4 col1\" >3</td> \n",
       "        <td id=\"T_b0ba85f4_0fc8_11e8_b150_a8667f361cf9row4_col2\" class=\"data row4 col2\" >$11.58</td> \n",
       "    </tr></tbody> \n",
       "</table> "
      ],
      "text/plain": [
       "<pandas.io.formats.style.Styler at 0x115213a58>"
      ]
     },
     "execution_count": 367,
     "metadata": {},
     "output_type": "execute_result"
    }
   ],
   "source": [
    "#Top Spenders\n",
    "\n",
    "#Identify the the top 5 spenders in the game by total purchase value, then list (in a table):\n",
    "\n",
    "#SN\n",
    "SN_groups = df.groupby(['SN'])\n",
    "\n",
    "#Purchase Count\n",
    "purchase_count = SN_groups.count()[\"Price\"]\n",
    "\n",
    "#Average Purchase Price\n",
    "avg_pur_count = SN_groups.mean()[\"Price\"]\n",
    "\n",
    "#Total Purchase Value\n",
    "total_pur_value = SN_groups.sum()[\"Price\"]\n",
    "\n",
    "pur_analysis = pd.DataFrame({\n",
    "    \n",
    "    \"Purchase Count\": purchase_count,\n",
    "    'Average Purchase Price': avg_pur_count,\n",
    "    'Total Purchase Value': total_pur_value,\n",
    "})\n",
    "\n",
    "#Sort in descending order to get top 5 spenders\n",
    "pur_analysis_sorted = pur_analysis.sort_values('Total Purchase Value', ascending=False).head()\n",
    "pur_analysis_sorted.style.format({\"Average Purchase Price\": \"${:.2f}\",\"Purchase Count\": \"${:.2f}\", \"Total Purchase Value\": \"${:.2f}\"})\n",
    "pur_analysis_sorted.style.format({\"Average Purchase Price\": \"${:.2f}\", \"Total Purchase Value\": \"${:.2f}\"})"
   ]
  },
  {
   "cell_type": "code",
   "execution_count": 368,
   "metadata": {},
   "outputs": [
    {
     "data": {
      "text/html": [
       "<style  type=\"text/css\" >\n",
       "</style>  \n",
       "<table id=\"T_b0c74b34_0fc8_11e8_88bb_a8667f361cf9\" > \n",
       "<thead>    <tr> \n",
       "        <th class=\"blank\" ></th> \n",
       "        <th class=\"blank level0\" ></th> \n",
       "        <th class=\"col_heading level0 col0\" >Purchase Count</th> \n",
       "        <th class=\"col_heading level0 col1\" >Item Price</th> \n",
       "        <th class=\"col_heading level0 col2\" >Total Purchase Value</th> \n",
       "    </tr>    <tr> \n",
       "        <th class=\"index_name level0\" >Item Name</th> \n",
       "        <th class=\"index_name level1\" >Item ID</th> \n",
       "        <th class=\"blank\" ></th> \n",
       "        <th class=\"blank\" ></th> \n",
       "        <th class=\"blank\" ></th> \n",
       "    </tr></thead> \n",
       "<tbody>    <tr> \n",
       "        <th id=\"T_b0c74b34_0fc8_11e8_88bb_a8667f361cf9level0_row0\" class=\"row_heading level0 row0\" >Arcane Gem</th> \n",
       "        <th id=\"T_b0c74b34_0fc8_11e8_88bb_a8667f361cf9level1_row0\" class=\"row_heading level1 row0\" >84</th> \n",
       "        <td id=\"T_b0c74b34_0fc8_11e8_88bb_a8667f361cf9row0_col0\" class=\"data row0 col0\" >11</td> \n",
       "        <td id=\"T_b0c74b34_0fc8_11e8_88bb_a8667f361cf9row0_col1\" class=\"data row0 col1\" >$2.23</td> \n",
       "        <td id=\"T_b0c74b34_0fc8_11e8_88bb_a8667f361cf9row0_col2\" class=\"data row0 col2\" >$24.53</td> \n",
       "    </tr>    <tr> \n",
       "        <th id=\"T_b0c74b34_0fc8_11e8_88bb_a8667f361cf9level0_row1\" class=\"row_heading level0 row1\" >Betrayal, Whisper of Grieving Widows</th> \n",
       "        <th id=\"T_b0c74b34_0fc8_11e8_88bb_a8667f361cf9level1_row1\" class=\"row_heading level1 row1\" >39</th> \n",
       "        <td id=\"T_b0c74b34_0fc8_11e8_88bb_a8667f361cf9row1_col0\" class=\"data row1 col0\" >11</td> \n",
       "        <td id=\"T_b0c74b34_0fc8_11e8_88bb_a8667f361cf9row1_col1\" class=\"data row1 col1\" >$2.35</td> \n",
       "        <td id=\"T_b0c74b34_0fc8_11e8_88bb_a8667f361cf9row1_col2\" class=\"data row1 col2\" >$25.85</td> \n",
       "    </tr>    <tr> \n",
       "        <th id=\"T_b0c74b34_0fc8_11e8_88bb_a8667f361cf9level0_row2\" class=\"row_heading level0 row2\" >Trickster</th> \n",
       "        <th id=\"T_b0c74b34_0fc8_11e8_88bb_a8667f361cf9level1_row2\" class=\"row_heading level1 row2\" >31</th> \n",
       "        <td id=\"T_b0c74b34_0fc8_11e8_88bb_a8667f361cf9row2_col0\" class=\"data row2 col0\" >9</td> \n",
       "        <td id=\"T_b0c74b34_0fc8_11e8_88bb_a8667f361cf9row2_col1\" class=\"data row2 col1\" >$2.07</td> \n",
       "        <td id=\"T_b0c74b34_0fc8_11e8_88bb_a8667f361cf9row2_col2\" class=\"data row2 col2\" >$18.63</td> \n",
       "    </tr>    <tr> \n",
       "        <th id=\"T_b0c74b34_0fc8_11e8_88bb_a8667f361cf9level0_row3\" class=\"row_heading level0 row3\" >Woeful Adamantite Claymore</th> \n",
       "        <th id=\"T_b0c74b34_0fc8_11e8_88bb_a8667f361cf9level1_row3\" class=\"row_heading level1 row3\" >175</th> \n",
       "        <td id=\"T_b0c74b34_0fc8_11e8_88bb_a8667f361cf9row3_col0\" class=\"data row3 col0\" >9</td> \n",
       "        <td id=\"T_b0c74b34_0fc8_11e8_88bb_a8667f361cf9row3_col1\" class=\"data row3 col1\" >$1.24</td> \n",
       "        <td id=\"T_b0c74b34_0fc8_11e8_88bb_a8667f361cf9row3_col2\" class=\"data row3 col2\" >$11.16</td> \n",
       "    </tr>    <tr> \n",
       "        <th id=\"T_b0c74b34_0fc8_11e8_88bb_a8667f361cf9level0_row4\" class=\"row_heading level0 row4\" >Serenity</th> \n",
       "        <th id=\"T_b0c74b34_0fc8_11e8_88bb_a8667f361cf9level1_row4\" class=\"row_heading level1 row4\" >13</th> \n",
       "        <td id=\"T_b0c74b34_0fc8_11e8_88bb_a8667f361cf9row4_col0\" class=\"data row4 col0\" >9</td> \n",
       "        <td id=\"T_b0c74b34_0fc8_11e8_88bb_a8667f361cf9row4_col1\" class=\"data row4 col1\" >$1.49</td> \n",
       "        <td id=\"T_b0c74b34_0fc8_11e8_88bb_a8667f361cf9row4_col2\" class=\"data row4 col2\" >$13.41</td> \n",
       "    </tr></tbody> \n",
       "</table> "
      ],
      "text/plain": [
       "<pandas.io.formats.style.Styler at 0x115303da0>"
      ]
     },
     "execution_count": 368,
     "metadata": {},
     "output_type": "execute_result"
    }
   ],
   "source": [
    "#Most Popular Items\n",
    "\n",
    "#Merge dataframes to find purchase count, total purchase value for items\n",
    "#Reset indices to dataframes can be merged on specific elements\n",
    "merge1 = df.groupby(\"Item Name\").sum().reset_index()\n",
    "merge2 = df.groupby(\"Item ID\").sum().reset_index()\n",
    "merge3 = df.groupby(\"Item Name\").count().reset_index()\n",
    "\n",
    "#merge dataframes\n",
    "merge_df1 = pd.merge(merge1, merge2, on=\"Price\")\n",
    "merge_df2 = pd.merge(merge3, merge_df1, on=\"Item Name\")\n",
    "\n",
    "#start to create final dataframe by manipulating data\n",
    "merge_df2[\"Gender\"] = (merge_df2[\"Price_y\"]/merge_df2[\"Item ID\"]).round(2)\n",
    "\n",
    "merge_df2_renamed = merge_df2.rename(columns={\"Age\": \"Purchase Count\", \"Gender\": \"Item Price\", \"Item ID\": \"null\", \"Price_y\": \"Total Purchase Value\", \"Item ID_y\": \"Item ID\"})\n",
    "\n",
    "#Including columns needed for the dataframe\n",
    "clean_df = merge_df2_renamed[[\"Item ID\", \"Item Name\", \"Purchase Count\", \"Item Price\", \"Total Purchase Value\"]]\n",
    "\n",
    "df2 = clean_df.set_index(['Item ID','Item Name'])\n",
    "popular_items_final = prefinal_df.sort_values('Purchase Count', ascending=False).head()\n",
    "popular_items_final.style.format({\"Item Price\": \"${:.2f}\", \"Total Purchase Value\": \"${:.2f}\"})"
   ]
  },
  {
   "cell_type": "code",
   "execution_count": 369,
   "metadata": {},
   "outputs": [
    {
     "data": {
      "text/html": [
       "<style  type=\"text/css\" >\n",
       "</style>  \n",
       "<table id=\"T_b0c9f7a8_0fc8_11e8_a6bc_a8667f361cf9\" > \n",
       "<thead>    <tr> \n",
       "        <th class=\"blank\" ></th> \n",
       "        <th class=\"blank level0\" ></th> \n",
       "        <th class=\"col_heading level0 col0\" >Purchase Count</th> \n",
       "        <th class=\"col_heading level0 col1\" >Item Price</th> \n",
       "        <th class=\"col_heading level0 col2\" >Total Purchase Value</th> \n",
       "    </tr>    <tr> \n",
       "        <th class=\"index_name level0\" >Item Name</th> \n",
       "        <th class=\"index_name level1\" >Item ID</th> \n",
       "        <th class=\"blank\" ></th> \n",
       "        <th class=\"blank\" ></th> \n",
       "        <th class=\"blank\" ></th> \n",
       "    </tr></thead> \n",
       "<tbody>    <tr> \n",
       "        <th id=\"T_b0c9f7a8_0fc8_11e8_a6bc_a8667f361cf9level0_row0\" class=\"row_heading level0 row0\" >Retribution Axe</th> \n",
       "        <th id=\"T_b0c9f7a8_0fc8_11e8_a6bc_a8667f361cf9level1_row0\" class=\"row_heading level1 row0\" >34</th> \n",
       "        <td id=\"T_b0c9f7a8_0fc8_11e8_a6bc_a8667f361cf9row0_col0\" class=\"data row0 col0\" >9</td> \n",
       "        <td id=\"T_b0c9f7a8_0fc8_11e8_a6bc_a8667f361cf9row0_col1\" class=\"data row0 col1\" >$4.14</td> \n",
       "        <td id=\"T_b0c9f7a8_0fc8_11e8_a6bc_a8667f361cf9row0_col2\" class=\"data row0 col2\" >$37.26</td> \n",
       "    </tr>    <tr> \n",
       "        <th id=\"T_b0c9f7a8_0fc8_11e8_a6bc_a8667f361cf9level0_row1\" class=\"row_heading level0 row1\" >Spectral Diamond Doomblade</th> \n",
       "        <th id=\"T_b0c9f7a8_0fc8_11e8_a6bc_a8667f361cf9level1_row1\" class=\"row_heading level1 row1\" >115</th> \n",
       "        <td id=\"T_b0c9f7a8_0fc8_11e8_a6bc_a8667f361cf9row1_col0\" class=\"data row1 col0\" >7</td> \n",
       "        <td id=\"T_b0c9f7a8_0fc8_11e8_a6bc_a8667f361cf9row1_col1\" class=\"data row1 col1\" >$4.25</td> \n",
       "        <td id=\"T_b0c9f7a8_0fc8_11e8_a6bc_a8667f361cf9row1_col2\" class=\"data row1 col2\" >$29.75</td> \n",
       "    </tr>    <tr> \n",
       "        <th id=\"T_b0c9f7a8_0fc8_11e8_a6bc_a8667f361cf9level0_row2\" class=\"row_heading level0 row2\" >Orenmir</th> \n",
       "        <th id=\"T_b0c9f7a8_0fc8_11e8_a6bc_a8667f361cf9level1_row2\" class=\"row_heading level1 row2\" >32</th> \n",
       "        <td id=\"T_b0c9f7a8_0fc8_11e8_a6bc_a8667f361cf9row2_col0\" class=\"data row2 col0\" >6</td> \n",
       "        <td id=\"T_b0c9f7a8_0fc8_11e8_a6bc_a8667f361cf9row2_col1\" class=\"data row2 col1\" >$4.95</td> \n",
       "        <td id=\"T_b0c9f7a8_0fc8_11e8_a6bc_a8667f361cf9row2_col2\" class=\"data row2 col2\" >$29.70</td> \n",
       "    </tr>    <tr> \n",
       "        <th id=\"T_b0c9f7a8_0fc8_11e8_a6bc_a8667f361cf9level0_row3\" class=\"row_heading level0 row3\" >Singed Scalpel</th> \n",
       "        <th id=\"T_b0c9f7a8_0fc8_11e8_a6bc_a8667f361cf9level1_row3\" class=\"row_heading level1 row3\" >103</th> \n",
       "        <td id=\"T_b0c9f7a8_0fc8_11e8_a6bc_a8667f361cf9row3_col0\" class=\"data row3 col0\" >6</td> \n",
       "        <td id=\"T_b0c9f7a8_0fc8_11e8_a6bc_a8667f361cf9row3_col1\" class=\"data row3 col1\" >$4.87</td> \n",
       "        <td id=\"T_b0c9f7a8_0fc8_11e8_a6bc_a8667f361cf9row3_col2\" class=\"data row3 col2\" >$29.22</td> \n",
       "    </tr>    <tr> \n",
       "        <th id=\"T_b0c9f7a8_0fc8_11e8_a6bc_a8667f361cf9level0_row4\" class=\"row_heading level0 row4\" >Splitter, Foe Of Subtlety</th> \n",
       "        <th id=\"T_b0c9f7a8_0fc8_11e8_a6bc_a8667f361cf9level1_row4\" class=\"row_heading level1 row4\" >107</th> \n",
       "        <td id=\"T_b0c9f7a8_0fc8_11e8_a6bc_a8667f361cf9row4_col0\" class=\"data row4 col0\" >8</td> \n",
       "        <td id=\"T_b0c9f7a8_0fc8_11e8_a6bc_a8667f361cf9row4_col1\" class=\"data row4 col1\" >$3.61</td> \n",
       "        <td id=\"T_b0c9f7a8_0fc8_11e8_a6bc_a8667f361cf9row4_col2\" class=\"data row4 col2\" >$28.88</td> \n",
       "    </tr></tbody> \n",
       "</table> "
      ],
      "text/plain": [
       "<pandas.io.formats.style.Styler at 0x1153c9978>"
      ]
     },
     "execution_count": 369,
     "metadata": {},
     "output_type": "execute_result"
    }
   ],
   "source": [
    "#Most Profitable items\n",
    "profit_items = prefinal_df.sort_values('Total Purchase Value', ascending=False).head()\n",
    "profit_items.style.format({\"Item Price\": \"${:.2f}\", \"Total Purchase Value\": \"${:.2f}\"})"
   ]
  }
 ],
 "metadata": {
  "kernelspec": {
   "display_name": "Python 3",
   "language": "python",
   "name": "python3"
  },
  "language_info": {
   "codemirror_mode": {
    "name": "ipython",
    "version": 3
   },
   "file_extension": ".py",
   "mimetype": "text/x-python",
   "name": "python",
   "nbconvert_exporter": "python",
   "pygments_lexer": "ipython3",
   "version": "3.6.3"
  }
 },
 "nbformat": 4,
 "nbformat_minor": 2
}
