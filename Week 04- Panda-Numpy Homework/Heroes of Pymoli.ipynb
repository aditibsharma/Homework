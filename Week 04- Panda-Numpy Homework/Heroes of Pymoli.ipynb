{
 "cells": [
  {
   "cell_type": "code",
   "execution_count": 9,
   "metadata": {},
   "outputs": [],
   "source": [
    "# Import the Pandas library\n",
    "import pandas as pd"
   ]
  },
  {
   "cell_type": "code",
   "execution_count": 10,
   "metadata": {},
   "outputs": [],
   "source": [
    "# load CSV\n",
    "json_path = \"../Week 04 - Panda-Numpy Homework/purchase_data.json\""
   ]
  },
  {
   "cell_type": "code",
   "execution_count": 27,
   "metadata": {
    "scrolled": true
   },
   "outputs": [
    {
     "data": {
      "text/html": [
       "<div>\n",
       "<style>\n",
       "    .dataframe thead tr:only-child th {\n",
       "        text-align: right;\n",
       "    }\n",
       "\n",
       "    .dataframe thead th {\n",
       "        text-align: left;\n",
       "    }\n",
       "\n",
       "    .dataframe tbody tr th {\n",
       "        vertical-align: top;\n",
       "    }\n",
       "</style>\n",
       "<table border=\"1\" class=\"dataframe\">\n",
       "  <thead>\n",
       "    <tr style=\"text-align: right;\">\n",
       "      <th></th>\n",
       "      <th>Age</th>\n",
       "      <th>Gender</th>\n",
       "      <th>Item ID</th>\n",
       "      <th>Item Name</th>\n",
       "      <th>Price</th>\n",
       "      <th>SN</th>\n",
       "    </tr>\n",
       "  </thead>\n",
       "  <tbody>\n",
       "    <tr>\n",
       "      <th>0</th>\n",
       "      <td>38</td>\n",
       "      <td>Male</td>\n",
       "      <td>165</td>\n",
       "      <td>Bone Crushing Silver Skewer</td>\n",
       "      <td>3.37</td>\n",
       "      <td>Aelalis34</td>\n",
       "    </tr>\n",
       "    <tr>\n",
       "      <th>1</th>\n",
       "      <td>21</td>\n",
       "      <td>Male</td>\n",
       "      <td>119</td>\n",
       "      <td>Stormbringer, Dark Blade of Ending Misery</td>\n",
       "      <td>2.32</td>\n",
       "      <td>Eolo46</td>\n",
       "    </tr>\n",
       "    <tr>\n",
       "      <th>2</th>\n",
       "      <td>34</td>\n",
       "      <td>Male</td>\n",
       "      <td>174</td>\n",
       "      <td>Primitive Blade</td>\n",
       "      <td>2.46</td>\n",
       "      <td>Assastnya25</td>\n",
       "    </tr>\n",
       "    <tr>\n",
       "      <th>3</th>\n",
       "      <td>21</td>\n",
       "      <td>Male</td>\n",
       "      <td>92</td>\n",
       "      <td>Final Critic</td>\n",
       "      <td>1.36</td>\n",
       "      <td>Pheusrical25</td>\n",
       "    </tr>\n",
       "    <tr>\n",
       "      <th>4</th>\n",
       "      <td>23</td>\n",
       "      <td>Male</td>\n",
       "      <td>63</td>\n",
       "      <td>Stormfury Mace</td>\n",
       "      <td>1.27</td>\n",
       "      <td>Aela59</td>\n",
       "    </tr>\n",
       "  </tbody>\n",
       "</table>\n",
       "</div>"
      ],
      "text/plain": [
       "   Age Gender  Item ID                                  Item Name  Price  \\\n",
       "0   38   Male      165                Bone Crushing Silver Skewer   3.37   \n",
       "1   21   Male      119  Stormbringer, Dark Blade of Ending Misery   2.32   \n",
       "2   34   Male      174                            Primitive Blade   2.46   \n",
       "3   21   Male       92                               Final Critic   1.36   \n",
       "4   23   Male       63                             Stormfury Mace   1.27   \n",
       "\n",
       "             SN  \n",
       "0     Aelalis34  \n",
       "1        Eolo46  \n",
       "2   Assastnya25  \n",
       "3  Pheusrical25  \n",
       "4        Aela59  "
      ]
     },
     "execution_count": 27,
     "metadata": {},
     "output_type": "execute_result"
    }
   ],
   "source": [
    "df = pd.read_json(json_path)\n",
    "df.head()"
   ]
  },
  {
   "cell_type": "code",
   "execution_count": 18,
   "metadata": {},
   "outputs": [
    {
     "data": {
      "text/plain": [
       "780"
      ]
     },
     "execution_count": 18,
     "metadata": {},
     "output_type": "execute_result"
    }
   ],
   "source": [
    "#Calculate Total Number of Players\n",
    "player_count = df['Age'].count()\n",
    "player_count"
   ]
  },
  {
   "cell_type": "markdown",
   "metadata": {},
   "source": [
    "#CalculatePurchasing Analysis (Total)"
   ]
  },
  {
   "cell_type": "code",
   "execution_count": 55,
   "metadata": {},
   "outputs": [
    {
     "name": "stdout",
     "output_type": "stream",
     "text": [
      "Number of unique items: Final Critic                                    14\n",
      "Arcane Gem                                      11\n",
      "Betrayal, Whisper of Grieving Widows            11\n",
      "Stormcaller                                     10\n",
      "Woeful Adamantite Claymore                       9\n",
      "Trickster                                        9\n",
      "Serenity                                         9\n",
      "Retribution Axe                                  9\n",
      "Darkheart                                        8\n",
      "Crucifer                                         8\n",
      "Bonecarvin Battle Axe                            8\n",
      "Conqueror Adamantite Mace                        8\n",
      "Splitter, Foe Of Subtlety                        8\n",
      "Crying Steel Sickle                              8\n",
      "Spectral Diamond Doomblade                       7\n",
      "Feral Katana                                     7\n",
      "Wolf, Promise of the Moonwalker                  7\n",
      "Blade of the Grave                               7\n",
      "Victor Iron Spikes                               7\n",
      "Alpha                                            7\n",
      "Darkheart, Butcher of the Champion               7\n",
      "Alpha, Oath of Zeal                              7\n",
      "Extraction, Quickblade Of Trembling Hands        7\n",
      "Torchlight, Bond of Storms                       7\n",
      "Brimstone                                        7\n",
      "Persuasion                                       7\n",
      "Venom Claymore                                   6\n",
      "Fiery Glass Crusader                             6\n",
      "Purgatory, Gem of Regret                         6\n",
      "Alpha, Reach of Ending Hope                      6\n",
      "                                                ..\n",
      "Winter's Bite                                    2\n",
      "Deathraze                                        2\n",
      "Dreamsong                                        2\n",
      "Piece Maker                                      2\n",
      "Worldbreaker                                     2\n",
      "Emberling, Defender of Delusions                 2\n",
      "Foul Titanium Battle Axe                         2\n",
      "Blood-Forged Skeletal Spine                      2\n",
      "Tranquility, Razor of Black Magic                2\n",
      "Fusion Pummel                                    2\n",
      "Oathbreaker, Last Hope of the Breaking Storm     2\n",
      "Freak's Bite, Favor of Holy Might                2\n",
      "Malice, Legacy of the Queen                      2\n",
      "Thorn, Conqueror of the Corrupted                2\n",
      "Warped Iron Scimitar                             2\n",
      "Vindictive Glass Edge                            2\n",
      "Verdict                                          1\n",
      "Hellreaver, Heirloom of Inception                1\n",
      "Flux, Destroyer of Due Diligence                 1\n",
      "Phantomlight                                     1\n",
      "Splinter                                         1\n",
      "Bloodlord's Fetish                               1\n",
      "Exiled Doomblade                                 1\n",
      "Sun Strike, Jaws of Twisted Visions              1\n",
      "Downfall, Scalpel Of The Emperor                 1\n",
      "Foul Edge                                        1\n",
      "Ghastly Adamantite Protector                     1\n",
      "Lightning, Etcher of the King                    1\n",
      "Soul-Forged Steel Shortsword                     1\n",
      "Exiled Mithril Longsword                         1\n",
      "Name: Item Name, Length: 179, dtype: int64\n"
     ]
    }
   ],
   "source": [
    "#Calculate Number of Unique Items\n",
    "unique_items = df['Item Name'].value_counts()\n",
    "print(f\"Number of unique items: {unique_items}\")"
   ]
  },
  {
   "cell_type": "code",
   "execution_count": 56,
   "metadata": {
    "scrolled": true
   },
   "outputs": [
    {
     "name": "stdout",
     "output_type": "stream",
     "text": [
      " Average Purchase price: 3\n"
     ]
    }
   ],
   "source": [
    "#Calculate Average Purchase Price\n",
    "avg_pur_price = df['Price'].mean()\n",
    "print(f\" Average Purchase price: {round(avg_pur_price)}\")"
   ]
  },
  {
   "cell_type": "code",
   "execution_count": 50,
   "metadata": {},
   "outputs": [
    {
     "name": "stdout",
     "output_type": "stream",
     "text": [
      " Total number of purchases: 780\n"
     ]
    }
   ],
   "source": [
    "#Calculate Total Number of Purchases\n",
    "total_purchases = df['Item Name'].count()\n",
    "print(f\" Total number of purchases: {total_purchases}\")"
   ]
  },
  {
   "cell_type": "code",
   "execution_count": 53,
   "metadata": {},
   "outputs": [
    {
     "name": "stdout",
     "output_type": "stream",
     "text": [
      "Total Revenue: 2286.3299999999963\n"
     ]
    }
   ],
   "source": [
    "#Calculate Total Revenue\n",
    "total_reveue = df['Price'].sum()\n",
    "print(f\"Total Revenue: {total_reveue}\")"
   ]
  },
  {
   "cell_type": "code",
   "execution_count": 58,
   "metadata": {},
   "outputs": [
    {
     "ename": "TypeError",
     "evalue": "string indices must be integers",
     "output_type": "error",
     "traceback": [
      "\u001b[0;31m---------------------------------------------------------------------------\u001b[0m",
      "\u001b[0;31mTypeError\u001b[0m                                 Traceback (most recent call last)",
      "\u001b[0;32m<ipython-input-58-ef7fb3c26bf2>\u001b[0m in \u001b[0;36m<module>\u001b[0;34m()\u001b[0m\n\u001b[1;32m      4\u001b[0m \u001b[0mmale\u001b[0m \u001b[0;34m=\u001b[0m \u001b[0mdf\u001b[0m\u001b[0;34m[\u001b[0m\u001b[0;34m\"Gender\"\u001b[0m\u001b[0;34m]\u001b[0m\u001b[0;34m.\u001b[0m\u001b[0mvalue_counts\u001b[0m\u001b[0;34m(\u001b[0m\u001b[0;34m)\u001b[0m\u001b[0;34m[\u001b[0m\u001b[0;34m'Male'\u001b[0m\u001b[0;34m]\u001b[0m\u001b[0;34m\u001b[0m\u001b[0m\n\u001b[1;32m      5\u001b[0m \u001b[0mmale\u001b[0m \u001b[0;31m#Calculating count of male players\u001b[0m\u001b[0;34m\u001b[0m\u001b[0m\n\u001b[0;32m----> 6\u001b[0;31m \u001b[0mmale_sum\u001b[0m \u001b[0;34m=\u001b[0m \u001b[0mdf\u001b[0m\u001b[0;34m[\u001b[0m\u001b[0;34m\"Gender\"\u001b[0m\u001b[0;34m]\u001b[0m\u001b[0;34m.\u001b[0m\u001b[0msum\u001b[0m\u001b[0;34m(\u001b[0m\u001b[0;34m)\u001b[0m\u001b[0;34m[\u001b[0m\u001b[0;34m'Male'\u001b[0m\u001b[0;34m]\u001b[0m\u001b[0;34m\u001b[0m\u001b[0m\n\u001b[0m\u001b[1;32m      7\u001b[0m \u001b[0;34m\u001b[0m\u001b[0m\n\u001b[1;32m      8\u001b[0m \u001b[0mprint\u001b[0m\u001b[0;34m(\u001b[0m\u001b[0;34mf\" % Count of Male players: {male}\\n % Percentage of male players: {male_percent}\\n\"\u001b[0m\u001b[0;34m)\u001b[0m\u001b[0;34m\u001b[0m\u001b[0m\n",
      "\u001b[0;31mTypeError\u001b[0m: string indices must be integers"
     ]
    }
   ],
   "source": [
    "#Gender Demographics\n",
    "#Percentage and Count of Male Players\n",
    "total_gender = df[\"Gender\"].count()\n",
    "male = df[\"Gender\"].value_counts()['Male']\n",
    "male #Calculating count of male players\n",
    "male_sum = df[\"Gender\"].sum()['Male']\n",
    "\n",
    "print(f\" %Count of Male players: {male}\\n % Percentage of male players: {male_percent}\\n\")"
   ]
  },
  {
   "cell_type": "code",
   "execution_count": null,
   "metadata": {
    "collapsed": true
   },
   "outputs": [],
   "source": []
  },
  {
   "cell_type": "code",
   "execution_count": null,
   "metadata": {
    "collapsed": true
   },
   "outputs": [],
   "source": []
  }
 ],
 "metadata": {
  "kernelspec": {
   "display_name": "Python 3",
   "language": "python",
   "name": "python3"
  },
  "language_info": {
   "codemirror_mode": {
    "name": "ipython",
    "version": 3
   },
   "file_extension": ".py",
   "mimetype": "text/x-python",
   "name": "python",
   "nbconvert_exporter": "python",
   "pygments_lexer": "ipython3",
   "version": "3.6.3"
  }
 },
 "nbformat": 4,
 "nbformat_minor": 2
}
