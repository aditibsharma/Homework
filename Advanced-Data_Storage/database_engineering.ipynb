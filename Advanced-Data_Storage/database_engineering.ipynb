{
 "cells": [
  {
   "cell_type": "markdown",
   "metadata": {},
   "source": [
    "## Step 1 - Data Engineering"
   ]
  },
  {
   "cell_type": "code",
   "execution_count": 178,
   "metadata": {
    "collapsed": true
   },
   "outputs": [],
   "source": [
    "# Import the Pandas library\n",
    "import pandas as pd\n",
    "import csv\n",
    "\n",
    "# Python SQL toolkit and Object Relational Mapper\n",
    "import sqlalchemy\n",
    "from sqlalchemy import create_engine, MetaData\n",
    "from sqlalchemy.ext.declarative import declarative_base\n",
    "from sqlalchemy import Column, Integer, String, Numeric, Text, Float\n",
    "\n",
    "from sqlalchemy import Column, Integer, String, Numeric, Text, Float, Date\n",
    "\n",
    "Base = declarative_base()"
   ]
  },
  {
   "cell_type": "code",
   "execution_count": 179,
   "metadata": {},
   "outputs": [
    {
     "name": "stdout",
     "output_type": "stream",
     "text": [
      "2018-04-07 03:34:39,477 INFO sqlalchemy.engine.base.Engine SELECT CAST('test plain returns' AS VARCHAR(60)) AS anon_1\n",
      "2018-04-07 03:34:39,480 INFO sqlalchemy.engine.base.Engine ()\n",
      "2018-04-07 03:34:39,482 INFO sqlalchemy.engine.base.Engine SELECT CAST('test unicode returns' AS VARCHAR(60)) AS anon_1\n",
      "2018-04-07 03:34:39,484 INFO sqlalchemy.engine.base.Engine ()\n"
     ]
    }
   ],
   "source": [
    "#create an engine\n",
    "engine = create_engine('sqlite:///hawaii.sqlite', echo=True)\n",
    "# Create a connection to the engine called `conn`\n",
    "conn = engine.connect()"
   ]
  },
  {
   "cell_type": "code",
   "execution_count": 180,
   "metadata": {},
   "outputs": [],
   "source": [
    "measurement_df= pd.read_csv('./Clean_hawaii_measurements.csv')\n",
    "station_df= pd.read_csv('./Clean_hawaii_stations.csv')"
   ]
  },
  {
   "cell_type": "code",
   "execution_count": 181,
   "metadata": {},
   "outputs": [
    {
     "data": {
      "text/html": [
       "<div>\n",
       "<style>\n",
       "    .dataframe thead tr:only-child th {\n",
       "        text-align: right;\n",
       "    }\n",
       "\n",
       "    .dataframe thead th {\n",
       "        text-align: left;\n",
       "    }\n",
       "\n",
       "    .dataframe tbody tr th {\n",
       "        vertical-align: top;\n",
       "    }\n",
       "</style>\n",
       "<table border=\"1\" class=\"dataframe\">\n",
       "  <thead>\n",
       "    <tr style=\"text-align: right;\">\n",
       "      <th></th>\n",
       "      <th>Unnamed: 0</th>\n",
       "      <th>station</th>\n",
       "      <th>date</th>\n",
       "      <th>prcp</th>\n",
       "      <th>tobs</th>\n",
       "    </tr>\n",
       "  </thead>\n",
       "  <tbody>\n",
       "    <tr>\n",
       "      <th>0</th>\n",
       "      <td>0</td>\n",
       "      <td>USC00519397</td>\n",
       "      <td>2010-01-01</td>\n",
       "      <td>0.08</td>\n",
       "      <td>65</td>\n",
       "    </tr>\n",
       "    <tr>\n",
       "      <th>1</th>\n",
       "      <td>1</td>\n",
       "      <td>USC00519397</td>\n",
       "      <td>2010-01-02</td>\n",
       "      <td>0.00</td>\n",
       "      <td>63</td>\n",
       "    </tr>\n",
       "    <tr>\n",
       "      <th>2</th>\n",
       "      <td>2</td>\n",
       "      <td>USC00519397</td>\n",
       "      <td>2010-01-03</td>\n",
       "      <td>0.00</td>\n",
       "      <td>74</td>\n",
       "    </tr>\n",
       "    <tr>\n",
       "      <th>3</th>\n",
       "      <td>3</td>\n",
       "      <td>USC00519397</td>\n",
       "      <td>2010-01-04</td>\n",
       "      <td>0.00</td>\n",
       "      <td>76</td>\n",
       "    </tr>\n",
       "    <tr>\n",
       "      <th>4</th>\n",
       "      <td>4</td>\n",
       "      <td>USC00519397</td>\n",
       "      <td>2010-01-06</td>\n",
       "      <td>NaN</td>\n",
       "      <td>73</td>\n",
       "    </tr>\n",
       "  </tbody>\n",
       "</table>\n",
       "</div>"
      ],
      "text/plain": [
       "   Unnamed: 0      station        date  prcp  tobs\n",
       "0           0  USC00519397  2010-01-01  0.08    65\n",
       "1           1  USC00519397  2010-01-02  0.00    63\n",
       "2           2  USC00519397  2010-01-03  0.00    74\n",
       "3           3  USC00519397  2010-01-04  0.00    76\n",
       "4           4  USC00519397  2010-01-06   NaN    73"
      ]
     },
     "execution_count": 181,
     "metadata": {},
     "output_type": "execute_result"
    }
   ],
   "source": [
    "measurement_df.head()"
   ]
  },
  {
   "cell_type": "code",
   "execution_count": 182,
   "metadata": {},
   "outputs": [
    {
     "data": {
      "text/html": [
       "<div>\n",
       "<style>\n",
       "    .dataframe thead tr:only-child th {\n",
       "        text-align: right;\n",
       "    }\n",
       "\n",
       "    .dataframe thead th {\n",
       "        text-align: left;\n",
       "    }\n",
       "\n",
       "    .dataframe tbody tr th {\n",
       "        vertical-align: top;\n",
       "    }\n",
       "</style>\n",
       "<table border=\"1\" class=\"dataframe\">\n",
       "  <thead>\n",
       "    <tr style=\"text-align: right;\">\n",
       "      <th></th>\n",
       "      <th>Unnamed: 0</th>\n",
       "      <th>Unnamed: 0.1</th>\n",
       "      <th>station</th>\n",
       "      <th>name</th>\n",
       "      <th>latitude</th>\n",
       "      <th>longitude</th>\n",
       "      <th>elevation</th>\n",
       "    </tr>\n",
       "  </thead>\n",
       "  <tbody>\n",
       "    <tr>\n",
       "      <th>0</th>\n",
       "      <td>0</td>\n",
       "      <td>0</td>\n",
       "      <td>USC00519397</td>\n",
       "      <td>WAIKIKI 717.2, HI US</td>\n",
       "      <td>21.2716</td>\n",
       "      <td>-157.8168</td>\n",
       "      <td>3.0</td>\n",
       "    </tr>\n",
       "    <tr>\n",
       "      <th>1</th>\n",
       "      <td>1</td>\n",
       "      <td>1</td>\n",
       "      <td>USC00513117</td>\n",
       "      <td>KANEOHE 838.1, HI US</td>\n",
       "      <td>21.4234</td>\n",
       "      <td>-157.8015</td>\n",
       "      <td>14.6</td>\n",
       "    </tr>\n",
       "    <tr>\n",
       "      <th>2</th>\n",
       "      <td>2</td>\n",
       "      <td>2</td>\n",
       "      <td>USC00514830</td>\n",
       "      <td>KUALOA RANCH HEADQUARTERS 886.9, HI US</td>\n",
       "      <td>21.5213</td>\n",
       "      <td>-157.8374</td>\n",
       "      <td>7.0</td>\n",
       "    </tr>\n",
       "    <tr>\n",
       "      <th>3</th>\n",
       "      <td>3</td>\n",
       "      <td>3</td>\n",
       "      <td>USC00517948</td>\n",
       "      <td>PEARL CITY, HI US</td>\n",
       "      <td>21.3934</td>\n",
       "      <td>-157.9751</td>\n",
       "      <td>11.9</td>\n",
       "    </tr>\n",
       "    <tr>\n",
       "      <th>4</th>\n",
       "      <td>4</td>\n",
       "      <td>4</td>\n",
       "      <td>USC00518838</td>\n",
       "      <td>UPPER WAHIAWA 874.3, HI US</td>\n",
       "      <td>21.4992</td>\n",
       "      <td>-158.0111</td>\n",
       "      <td>306.6</td>\n",
       "    </tr>\n",
       "  </tbody>\n",
       "</table>\n",
       "</div>"
      ],
      "text/plain": [
       "   Unnamed: 0  Unnamed: 0.1      station  \\\n",
       "0           0             0  USC00519397   \n",
       "1           1             1  USC00513117   \n",
       "2           2             2  USC00514830   \n",
       "3           3             3  USC00517948   \n",
       "4           4             4  USC00518838   \n",
       "\n",
       "                                     name  latitude  longitude  elevation  \n",
       "0                    WAIKIKI 717.2, HI US   21.2716  -157.8168        3.0  \n",
       "1                    KANEOHE 838.1, HI US   21.4234  -157.8015       14.6  \n",
       "2  KUALOA RANCH HEADQUARTERS 886.9, HI US   21.5213  -157.8374        7.0  \n",
       "3                       PEARL CITY, HI US   21.3934  -157.9751       11.9  \n",
       "4              UPPER WAHIAWA 874.3, HI US   21.4992  -158.0111      306.6  "
      ]
     },
     "execution_count": 182,
     "metadata": {},
     "output_type": "execute_result"
    }
   ],
   "source": [
    "station_df.head()"
   ]
  },
  {
   "cell_type": "code",
   "execution_count": 183,
   "metadata": {},
   "outputs": [],
   "source": [
    "#Creating Measurement and Station classes\n",
    "class Measurement(Base):\n",
    "    __tablename__ = \"measurement\"\n",
    "    id = Column(Integer, primary_key = True)\n",
    "    station = Column(String(255))\n",
    "    date = Column(String)\n",
    "    prcp = Column(Float)\n",
    "    tobs = Column(Float)\n",
    "    \n",
    "class Station(Base):\n",
    "    __tablename__ = \"station\"\n",
    "    id = Column(Integer, primary_key=True)\n",
    "    station = Column(String(255))\n",
    "    name = Column(String(255))\n",
    "    latitude = Column(Float)\n",
    "    longitude = Column(Float)\n",
    "    elevation = Column(Float)\n",
    "    location = Column(Float)"
   ]
  },
  {
   "cell_type": "code",
   "execution_count": 184,
   "metadata": {},
   "outputs": [
    {
     "name": "stdout",
     "output_type": "stream",
     "text": [
      "2018-04-07 03:34:39,615 INFO sqlalchemy.engine.base.Engine PRAGMA table_info(\"measurement\")\n",
      "2018-04-07 03:34:39,618 INFO sqlalchemy.engine.base.Engine ()\n",
      "2018-04-07 03:34:39,622 INFO sqlalchemy.engine.base.Engine PRAGMA table_info(\"station\")\n",
      "2018-04-07 03:34:39,625 INFO sqlalchemy.engine.base.Engine ()\n"
     ]
    }
   ],
   "source": [
    "# Create the tables in the database\n",
    "Base.metadata.create_all(engine)"
   ]
  },
  {
   "cell_type": "code",
   "execution_count": 185,
   "metadata": {},
   "outputs": [
    {
     "data": {
      "text/plain": [
       "{'date': '2010-01-01', 'prcp': 0.08, 'station': 'USC00519397', 'tobs': 65}"
      ]
     },
     "execution_count": 185,
     "metadata": {},
     "output_type": "execute_result"
    }
   ],
   "source": [
    "# Use Orient='records' to create a list of data to write\n",
    "# http://pandas-docs.github.io/pandas-docs-travis/io.html#orient-options\n",
    "### BEGIN SOLUTION\n",
    "measurement_data = measurements_df.to_dict(orient='records')\n",
    "measurement_data[0]"
   ]
  },
  {
   "cell_type": "code",
   "execution_count": 186,
   "metadata": {},
   "outputs": [
    {
     "data": {
      "text/plain": [
       "{'Unnamed: 0': 0,\n",
       " 'elevation': 3.0,\n",
       " 'latitude': 21.2716,\n",
       " 'longitude': -157.8168,\n",
       " 'name': 'WAIKIKI 717.2, HI US',\n",
       " 'station': 'USC00519397'}"
      ]
     },
     "execution_count": 186,
     "metadata": {},
     "output_type": "execute_result"
    }
   ],
   "source": [
    "# Use Orient='records' to create a list of data to write\n",
    "# http://pandas-docs.github.io/pandas-docs-travis/io.html#orient-options\n",
    "### BEGIN SOLUTION\n",
    "station_data = stations_df.to_dict(orient='records')\n",
    "station_data[0]"
   ]
  },
  {
   "cell_type": "code",
   "execution_count": 187,
   "metadata": {},
   "outputs": [
    {
     "name": "stdout",
     "output_type": "stream",
     "text": [
      "2018-04-07 03:34:39,911 INFO sqlalchemy.engine.base.Engine SELECT name FROM sqlite_master WHERE type='table' ORDER BY name\n",
      "2018-04-07 03:34:39,915 INFO sqlalchemy.engine.base.Engine ()\n",
      "2018-04-07 03:34:39,925 INFO sqlalchemy.engine.base.Engine PRAGMA table_info(\"measurement\")\n",
      "2018-04-07 03:34:39,928 INFO sqlalchemy.engine.base.Engine ()\n",
      "2018-04-07 03:34:39,933 INFO sqlalchemy.engine.base.Engine SELECT sql FROM  (SELECT * FROM sqlite_master UNION ALL   SELECT * FROM sqlite_temp_master) WHERE name = 'measurement' AND type = 'table'\n",
      "2018-04-07 03:34:39,938 INFO sqlalchemy.engine.base.Engine ()\n",
      "2018-04-07 03:34:39,942 INFO sqlalchemy.engine.base.Engine PRAGMA foreign_key_list(\"measurement\")\n",
      "2018-04-07 03:34:39,945 INFO sqlalchemy.engine.base.Engine ()\n",
      "2018-04-07 03:34:39,948 INFO sqlalchemy.engine.base.Engine SELECT sql FROM  (SELECT * FROM sqlite_master UNION ALL   SELECT * FROM sqlite_temp_master) WHERE name = 'measurement' AND type = 'table'\n",
      "2018-04-07 03:34:39,951 INFO sqlalchemy.engine.base.Engine ()\n",
      "2018-04-07 03:34:39,954 INFO sqlalchemy.engine.base.Engine PRAGMA index_list(\"measurement\")\n",
      "2018-04-07 03:34:39,956 INFO sqlalchemy.engine.base.Engine ()\n",
      "2018-04-07 03:34:39,959 INFO sqlalchemy.engine.base.Engine PRAGMA index_list(\"measurement\")\n",
      "2018-04-07 03:34:39,961 INFO sqlalchemy.engine.base.Engine ()\n",
      "2018-04-07 03:34:39,963 INFO sqlalchemy.engine.base.Engine SELECT sql FROM  (SELECT * FROM sqlite_master UNION ALL   SELECT * FROM sqlite_temp_master) WHERE name = 'measurement' AND type = 'table'\n",
      "2018-04-07 03:34:39,966 INFO sqlalchemy.engine.base.Engine ()\n",
      "2018-04-07 03:34:39,969 INFO sqlalchemy.engine.base.Engine PRAGMA table_info(\"station\")\n",
      "2018-04-07 03:34:39,972 INFO sqlalchemy.engine.base.Engine ()\n",
      "2018-04-07 03:34:39,976 INFO sqlalchemy.engine.base.Engine SELECT sql FROM  (SELECT * FROM sqlite_master UNION ALL   SELECT * FROM sqlite_temp_master) WHERE name = 'station' AND type = 'table'\n",
      "2018-04-07 03:34:39,979 INFO sqlalchemy.engine.base.Engine ()\n",
      "2018-04-07 03:34:39,983 INFO sqlalchemy.engine.base.Engine PRAGMA foreign_key_list(\"station\")\n",
      "2018-04-07 03:34:39,986 INFO sqlalchemy.engine.base.Engine ()\n",
      "2018-04-07 03:34:39,991 INFO sqlalchemy.engine.base.Engine SELECT sql FROM  (SELECT * FROM sqlite_master UNION ALL   SELECT * FROM sqlite_temp_master) WHERE name = 'station' AND type = 'table'\n",
      "2018-04-07 03:34:39,994 INFO sqlalchemy.engine.base.Engine ()\n",
      "2018-04-07 03:34:40,000 INFO sqlalchemy.engine.base.Engine PRAGMA index_list(\"station\")\n",
      "2018-04-07 03:34:40,005 INFO sqlalchemy.engine.base.Engine ()\n",
      "2018-04-07 03:34:40,008 INFO sqlalchemy.engine.base.Engine PRAGMA index_list(\"station\")\n",
      "2018-04-07 03:34:40,011 INFO sqlalchemy.engine.base.Engine ()\n",
      "2018-04-07 03:34:40,014 INFO sqlalchemy.engine.base.Engine SELECT sql FROM  (SELECT * FROM sqlite_master UNION ALL   SELECT * FROM sqlite_temp_master) WHERE name = 'station' AND type = 'table'\n",
      "2018-04-07 03:34:40,017 INFO sqlalchemy.engine.base.Engine ()\n"
     ]
    }
   ],
   "source": [
    "# Use MetaData from SQLAlchemy to reflect the tables\n",
    "### BEGIN SOLUTION\n",
    "metadata = MetaData(bind=engine)\n",
    "metadata.reflect()"
   ]
  },
  {
   "cell_type": "code",
   "execution_count": 188,
   "metadata": {},
   "outputs": [],
   "source": [
    "# Save the reference to the `measurement`  and 'station' table as a variable called 'measurement_table' and 'station table'\n",
    "measurement_table = sqlalchemy.Table('measurement', metadata, autoload=True)\n",
    "station_table = sqlalchemy.Table('station', metadata, autoload=True)"
   ]
  },
  {
   "cell_type": "code",
   "execution_count": 195,
   "metadata": {},
   "outputs": [
    {
     "name": "stdout",
     "output_type": "stream",
     "text": [
      "2018-04-07 03:36:13,778 INFO sqlalchemy.engine.base.Engine select * from measurement limit 5\n",
      "2018-04-07 03:36:13,781 INFO sqlalchemy.engine.base.Engine ()\n"
     ]
    },
    {
     "data": {
      "text/plain": [
       "[]"
      ]
     },
     "execution_count": 195,
     "metadata": {},
     "output_type": "execute_result"
    }
   ],
   "source": [
    "# Test that the insert works by fetching the first 5 rows. \n",
    "conn.execute(\"select * from measurement limit 5\").fetchall()"
   ]
  },
  {
   "cell_type": "code",
   "execution_count": 190,
   "metadata": {},
   "outputs": [],
   "source": [
    "#measurements_df.to_sql('measurement', engine, if_exists = \"append\", index=False)\n",
    "#stations_df.to_sql('station', engine, if_exists = \"append\", index=False)"
   ]
  },
  {
   "cell_type": "code",
   "execution_count": null,
   "metadata": {
    "collapsed": true
   },
   "outputs": [],
   "source": []
  }
 ],
 "metadata": {
  "kernelspec": {
   "display_name": "Python 3",
   "language": "python",
   "name": "python3"
  },
  "language_info": {
   "codemirror_mode": {
    "name": "ipython",
    "version": 3
   },
   "file_extension": ".py",
   "mimetype": "text/x-python",
   "name": "python",
   "nbconvert_exporter": "python",
   "pygments_lexer": "ipython3",
   "version": "3.6.3"
  }
 },
 "nbformat": 4,
 "nbformat_minor": 2
}
