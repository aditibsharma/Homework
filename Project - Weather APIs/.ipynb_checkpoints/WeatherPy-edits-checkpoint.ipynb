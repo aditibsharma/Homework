{
 "cells": [
  {
   "cell_type": "markdown",
   "metadata": {},
   "source": [
    "## Creating a Python script to visualize the weather of 500+ cities across the world of varying distance from the equator and documenting the analysis based off data."
   ]
  },
  {
   "cell_type": "code",
   "execution_count": 1,
   "metadata": {
    "collapsed": true
   },
   "outputs": [],
   "source": [
    "# Dependencies\n",
    "import matplotlib.pyplot as plt\n",
    "import requests\n",
    "import pandas as pd\n",
    "import seaborn as sb\n",
    "import numpy as np\n",
    "import csv\n",
    "from citipy import citipy"
   ]
  },
  {
   "cell_type": "code",
   "execution_count": 2,
   "metadata": {
    "collapsed": true
   },
   "outputs": [],
   "source": [
    "# Save config information.\n",
    "\n",
    "api_key = \"c7f9f57b4779391ea1f5ae067591c971\"\n",
    "url = \"http://api.openweathermap.org/data/2.5/weather?units=metric&APPID=\" + api_key\n"
   ]
  },
  {
   "cell_type": "code",
   "execution_count": 3,
   "metadata": {
    "scrolled": true
   },
   "outputs": [
    {
     "name": "stdout",
     "output_type": "stream",
     "text": [
      "http://api.openweathermap.org/data/2.5/weather?units=metric&APPID=c7f9f57b4779391ea1f5ae067591c971&q=colares\n",
      "http://api.openweathermap.org/data/2.5/weather?units=metric&APPID=c7f9f57b4779391ea1f5ae067591c971&q=rikitea\n",
      "http://api.openweathermap.org/data/2.5/weather?units=metric&APPID=c7f9f57b4779391ea1f5ae067591c971&q=haines junction\n",
      "http://api.openweathermap.org/data/2.5/weather?units=metric&APPID=c7f9f57b4779391ea1f5ae067591c971&q=busselton\n",
      "http://api.openweathermap.org/data/2.5/weather?units=metric&APPID=c7f9f57b4779391ea1f5ae067591c971&q=arraial do cabo\n"
     ]
    }
   ],
   "source": [
    "cities = []\n",
    "city_weather_data =[]\n",
    "lats = np.random.randint(low=-90, high=90, size=5)\n",
    "lons = np.random.randint(low=-180, high=180, size=5)\n",
    "for lat, lon in zip(lats, lons):\n",
    "    city = citipy.nearest_city(lat, lon)\n",
    "    #print(city.city_name)\n",
    "    \n",
    "    city_weather_request_url = url + \"&q=\" + city.city_name\n",
    "    print(city_weather_request_url)\n",
    "    response = requests.get(city_weather_request_url)\n",
    "    if response.status_code != 404:\n",
    "        city_weather_data.append(response.json())\n"
   ]
  },
  {
   "cell_type": "code",
   "execution_count": 4,
   "metadata": {},
   "outputs": [
    {
     "data": {
      "text/plain": [
       "{'base': 'stations',\n",
       " 'clouds': {'all': 20},\n",
       " 'cod': 200,\n",
       " 'coord': {'lat': 38.8, 'lon': -9.45},\n",
       " 'dt': 1519932600,\n",
       " 'id': 2269142,\n",
       " 'main': {'humidity': 71,\n",
       "  'pressure': 998,\n",
       "  'temp': 12.16,\n",
       "  'temp_max': 13,\n",
       "  'temp_min': 11},\n",
       " 'name': 'Colares',\n",
       " 'sys': {'country': 'PT',\n",
       "  'id': 5961,\n",
       "  'message': 0.0105,\n",
       "  'sunrise': 1519888150,\n",
       "  'sunset': 1519929079,\n",
       "  'type': 1},\n",
       " 'visibility': 10000,\n",
       " 'weather': [{'description': 'few clouds',\n",
       "   'icon': '02n',\n",
       "   'id': 801,\n",
       "   'main': 'Clouds'}],\n",
       " 'wind': {'deg': 250, 'speed': 4.1}}"
      ]
     },
     "execution_count": 4,
     "metadata": {},
     "output_type": "execute_result"
    }
   ],
   "source": [
    "city_weather_data[0]"
   ]
  },
  {
   "cell_type": "code",
   "execution_count": 5,
   "metadata": {},
   "outputs": [
    {
     "data": {
      "text/html": [
       "<div>\n",
       "<style>\n",
       "    .dataframe thead tr:only-child th {\n",
       "        text-align: right;\n",
       "    }\n",
       "\n",
       "    .dataframe thead th {\n",
       "        text-align: left;\n",
       "    }\n",
       "\n",
       "    .dataframe tbody tr th {\n",
       "        vertical-align: top;\n",
       "    }\n",
       "</style>\n",
       "<table border=\"1\" class=\"dataframe\">\n",
       "  <thead>\n",
       "    <tr style=\"text-align: right;\">\n",
       "      <th></th>\n",
       "      <th>lat</th>\n",
       "      <th>name</th>\n",
       "      <th>temp</th>\n",
       "    </tr>\n",
       "  </thead>\n",
       "  <tbody>\n",
       "    <tr>\n",
       "      <th>0</th>\n",
       "      <td>38.80</td>\n",
       "      <td>Colares</td>\n",
       "      <td>12.16</td>\n",
       "    </tr>\n",
       "    <tr>\n",
       "      <th>1</th>\n",
       "      <td>-23.12</td>\n",
       "      <td>Rikitea</td>\n",
       "      <td>27.40</td>\n",
       "    </tr>\n",
       "    <tr>\n",
       "      <th>2</th>\n",
       "      <td>60.75</td>\n",
       "      <td>Haines Junction</td>\n",
       "      <td>-20.15</td>\n",
       "    </tr>\n",
       "    <tr>\n",
       "      <th>3</th>\n",
       "      <td>-33.64</td>\n",
       "      <td>Busselton</td>\n",
       "      <td>16.30</td>\n",
       "    </tr>\n",
       "    <tr>\n",
       "      <th>4</th>\n",
       "      <td>-22.97</td>\n",
       "      <td>Arraial do Cabo</td>\n",
       "      <td>29.48</td>\n",
       "    </tr>\n",
       "  </tbody>\n",
       "</table>\n",
       "</div>"
      ],
      "text/plain": [
       "     lat             name   temp\n",
       "0  38.80          Colares  12.16\n",
       "1 -23.12          Rikitea  27.40\n",
       "2  60.75  Haines Junction -20.15\n",
       "3 -33.64        Busselton  16.30\n",
       "4 -22.97  Arraial do Cabo  29.48"
      ]
     },
     "execution_count": 5,
     "metadata": {},
     "output_type": "execute_result"
    }
   ],
   "source": [
    "extracted_data = []\n",
    "for city_weather in city_weather_data:\n",
    "    lat_data = city_weather.get(\"coord\").get(\"lat\")\n",
    "    temp_data = city_weather.get(\"main\").get(\"temp\")\n",
    "    extract = {\"temp\": temp_data, \"lat\": lat_data, 'name': city_weather.get('name')}\n",
    "    extracted_data.append(extract)\n",
    "\n",
    "df = pd.DataFrame(extracted_data)\n",
    "df"
   ]
  },
  {
   "cell_type": "code",
   "execution_count": null,
   "metadata": {
    "collapsed": true
   },
   "outputs": [],
   "source": []
  }
 ],
 "metadata": {
  "kernelspec": {
   "display_name": "Python 3",
   "language": "python",
   "name": "python3"
  },
  "language_info": {
   "codemirror_mode": {
    "name": "ipython",
    "version": 3
   },
   "file_extension": ".py",
   "mimetype": "text/x-python",
   "name": "python",
   "nbconvert_exporter": "python",
   "pygments_lexer": "ipython3",
   "version": "3.6.3"
  }
 },
 "nbformat": 4,
 "nbformat_minor": 2
}
